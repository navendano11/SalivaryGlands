{
 "cells": [
  {
   "cell_type": "code",
   "execution_count": 1,
   "id": "02ea3dac",
   "metadata": {},
   "outputs": [],
   "source": [
    "import numpy as np\n",
    "import SimpleITK as sitk\n",
    "import os"
   ]
  },
  {
   "cell_type": "code",
   "execution_count": 3,
   "id": "b1c22f98",
   "metadata": {},
   "outputs": [],
   "source": [
    "import os\n",
    "import shutil\n",
    "path = 'MICCAI/Samples'\n",
    "files = os.listdir(path)\n",
    "ext = ('.nrrd')\n",
    "\n",
    "for i in files:\n",
    "    dirname2 = path+\"/\"+i\n",
    "    if os.path.isdir(dirname2):\n",
    "        files2 = os.listdir(dirname2)\n",
    "        if os.path.isdir(dirname2):\n",
    "            for file_img in os.listdir(dirname2):\n",
    "                if file_img.endswith(ext):\n",
    "                    if not os.path.exists(dirname2+\"/NII\"):\n",
    "                        os.mkdir(dirname2+\"/NII\")\n",
    "                        os.mkdir(dirname2+\"/NII/Labels\")\n",
    "                    name_file = os.path.splitext(file_img)[0]\n",
    "                    volume = sitk.ReadImage(dirname2+\"/\"+file_img)\n",
    "                    sitk.WriteImage(volume, dirname2+\"/NII/\"+name_file+\".nii.gz\")\n",
    "                    os.remove(dirname2+\"/\"+file_img)\n",
    "            files3 = os.listdir(dirname2)\n",
    "            for k in files3:\n",
    "                if os.path.isdir(dirname2+\"/\"+k):\n",
    "                    for file_img2 in os.listdir(dirname2+\"/\"+k):\n",
    "                        if file_img2.endswith(ext):\n",
    "                            name_file2 = os.path.splitext(file_img2)[0]\n",
    "                            volume2 = sitk.ReadImage(dirname2+\"/\"+k+\"/\"+file_img2)\n",
    "                            sitk.WriteImage(volume2, dirname2+\"/NII/Labels/\"+name_file2+\".nii.gz\")\n",
    "    shutil.rmtree(dirname2+\"/structures\")\n",
    "                            \n",
    "#folders"
   ]
  },
  {
   "cell_type": "code",
   "execution_count": null,
   "id": "29365d6f",
   "metadata": {},
   "outputs": [],
   "source": []
  }
 ],
 "metadata": {
  "kernelspec": {
   "display_name": "Python 3.9.12 ('base')",
   "language": "python",
   "name": "python3"
  },
  "language_info": {
   "codemirror_mode": {
    "name": "ipython",
    "version": 3
   },
   "file_extension": ".py",
   "mimetype": "text/x-python",
   "name": "python",
   "nbconvert_exporter": "python",
   "pygments_lexer": "ipython3",
   "version": "3.9.12"
  },
  "vscode": {
   "interpreter": {
    "hash": "1def9dd74f15eb7d610eff763efa94601ecde23bad9a9ad6cff9845900b2f35a"
   }
  }
 },
 "nbformat": 4,
 "nbformat_minor": 5
}
